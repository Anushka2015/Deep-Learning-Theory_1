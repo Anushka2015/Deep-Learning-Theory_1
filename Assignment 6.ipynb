{
 "cells": [
  {
   "cell_type": "markdown",
   "id": "8f53b6ae",
   "metadata": {},
   "source": [
    "1.\tWhat are escape characters, and how do you use them?\n",
    "Escape characters or sequences are illegal characters for Python and never get printed as part of the output. When backslash is used in Python programming, it allows the program to escape the next characters. Explanation: Here, the escape character could be t, n, e, or backslash itself.1\n"
   ]
  },
  {
   "cell_type": "markdown",
   "id": "4899a2c4",
   "metadata": {},
   "source": [
    "2. What do the escape characters n and t stand for?\n",
    "It is used in representing certain whitespace characters: \"\\t\" is a tab, \"\\n\" is a newline, and \"\\r\" is a carriage return.\n"
   ]
  },
  {
   "cell_type": "markdown",
   "id": "b9aac00b",
   "metadata": {},
   "source": [
    "3. What is the way to include backslash characters in a string?\n",
    "The backslash ( \"\\\" ) character is a special escape character used to indicate other special characters such as new lines ( \\n ), tabs ( \\t ), or quotation marks ( \\\" ). If you want to include a backslash character itself, you need two backslashes or use the @ verbatim string: \"\\\\Tasks\" or @\"\\Tasks\" .\n"
   ]
  },
  {
   "cell_type": "markdown",
   "id": "4005ce20",
   "metadata": {},
   "source": [
    "4. The string's Moving Castle&quot; is a correct value. Why isn&#39;t the single quote character in the\n",
    "word Howl's not escaped a problem?\n",
    "The string value \"Howl's Moving Castle\" is a valid string. Why isn't it a problem that the single quote character in the word Howl's isn't escaped? The single quote in Howl's is fine because you've used double quotes to mark the beginning and end of the string.\n",
    "\n"
   ]
  },
  {
   "cell_type": "markdown",
   "id": "e6bdb071",
   "metadata": {},
   "source": [
    "5. How do you write a string of newlines if you don't want to use the n character?\n",
    "The new line character in Python is \\n . It is used to indicate the end of a line of text. You can print strings without adding a new line with end = <character> , which <character> is the character that will be used to separate the lines.\n",
    "\n"
   ]
  },
  {
   "cell_type": "code",
   "execution_count": 1,
   "id": "1a323ff6",
   "metadata": {},
   "outputs": [
    {
     "data": {
      "text/plain": [
       "'e'"
      ]
     },
     "execution_count": 1,
     "metadata": {},
     "output_type": "execute_result"
    }
   ],
   "source": [
    "#What are the values of the given expressions?\n",
    "\"Hello world!\"[1]\n"
   ]
  },
  {
   "cell_type": "code",
   "execution_count": 2,
   "id": "cf3d3712",
   "metadata": {},
   "outputs": [
    {
     "data": {
      "text/plain": [
       "'Hello'"
      ]
     },
     "execution_count": 2,
     "metadata": {},
     "output_type": "execute_result"
    }
   ],
   "source": [
    "\"Hello world!\"[0:5]"
   ]
  },
  {
   "cell_type": "code",
   "execution_count": 3,
   "id": "1a9e371d",
   "metadata": {},
   "outputs": [
    {
     "data": {
      "text/plain": [
       "'Hello'"
      ]
     },
     "execution_count": 3,
     "metadata": {},
     "output_type": "execute_result"
    }
   ],
   "source": [
    "\"Hello world!\"[:5]"
   ]
  },
  {
   "cell_type": "code",
   "execution_count": 4,
   "id": "4575be35",
   "metadata": {},
   "outputs": [
    {
     "data": {
      "text/plain": [
       "'lo world!'"
      ]
     },
     "execution_count": 4,
     "metadata": {},
     "output_type": "execute_result"
    }
   ],
   "source": [
    "\"Hello world!\"[3:]"
   ]
  },
  {
   "cell_type": "code",
   "execution_count": 6,
   "id": "0ee6a02d",
   "metadata": {},
   "outputs": [
    {
     "data": {
      "text/plain": [
       "'HELLO'"
      ]
     },
     "execution_count": 6,
     "metadata": {},
     "output_type": "execute_result"
    }
   ],
   "source": [
    "#7. What are the values of the following expressions?\n",
    "\"Hello\".upper()\n"
   ]
  },
  {
   "cell_type": "code",
   "execution_count": 7,
   "id": "62af9d6e",
   "metadata": {},
   "outputs": [
    {
     "data": {
      "text/plain": [
       "True"
      ]
     },
     "execution_count": 7,
     "metadata": {},
     "output_type": "execute_result"
    }
   ],
   "source": [
    "\"Hello\".upper().isupper()"
   ]
  },
  {
   "cell_type": "code",
   "execution_count": 8,
   "id": "d5337242",
   "metadata": {},
   "outputs": [
    {
     "data": {
      "text/plain": [
       "'hello'"
      ]
     },
     "execution_count": 8,
     "metadata": {},
     "output_type": "execute_result"
    }
   ],
   "source": [
    "\"Hello\".upper().lower()"
   ]
  },
  {
   "cell_type": "code",
   "execution_count": 9,
   "id": "98eaa6a3",
   "metadata": {},
   "outputs": [
    {
     "data": {
      "text/plain": [
       "['Remember,', 'remember,', 'the', 'fifth', 'of', 'July.']"
      ]
     },
     "execution_count": 9,
     "metadata": {},
     "output_type": "execute_result"
    }
   ],
   "source": [
    "#8. What are the values of the following expressions?\n",
    "\"Remember, remember, the fifth of July.\".split()\n"
   ]
  },
  {
   "cell_type": "code",
   "execution_count": 10,
   "id": "5148823b",
   "metadata": {},
   "outputs": [
    {
     "data": {
      "text/plain": [
       "'Therecanonlyone.'"
      ]
     },
     "execution_count": 10,
     "metadata": {},
     "output_type": "execute_result"
    }
   ],
   "source": [
    "\"\".join(\"There can only one.\".split())\n"
   ]
  },
  {
   "cell_type": "code",
   "execution_count": null,
   "id": "0de261f5",
   "metadata": {},
   "outputs": [],
   "source": [
    "#10. What is the best way to remove whitespace characters from the start or end?\n",
    "Use the .strip() method to remove whitespace and characters from the beginning and the end of a string. Use the .lstrip() method to remove whitespace and characters only from the beginning of a string."
   ]
  }
 ],
 "metadata": {
  "kernelspec": {
   "display_name": "Python 3 (ipykernel)",
   "language": "python",
   "name": "python3"
  },
  "language_info": {
   "codemirror_mode": {
    "name": "ipython",
    "version": 3
   },
   "file_extension": ".py",
   "mimetype": "text/x-python",
   "name": "python",
   "nbconvert_exporter": "python",
   "pygments_lexer": "ipython3",
   "version": "3.9.0"
  }
 },
 "nbformat": 4,
 "nbformat_minor": 5
}
